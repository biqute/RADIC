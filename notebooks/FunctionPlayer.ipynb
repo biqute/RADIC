{
 "cells": [
  {
   "cell_type": "markdown",
   "metadata": {},
   "source": [
    "For now just play with sine waves"
   ]
  },
  {
   "cell_type": "code",
   "execution_count": 10,
   "metadata": {},
   "outputs": [],
   "source": [
    "# Imports\n",
    "import numpy as np\n",
    "from matplotlib import pyplot as plt\n",
    "from scipy import signal as sg\n",
    "from math import sin, pi\n",
    "\n",
    "import alsaaudio as aa\n",
    "\n",
    "import time\n",
    "import struct\n",
    "import itertools\n",
    "from multiprocessing import Queue\n",
    "from queue import Empty\n",
    "from threading import Thread"
   ]
  },
  {
   "cell_type": "code",
   "execution_count": 11,
   "metadata": {},
   "outputs": [],
   "source": [
    "# Initialization of some values\n",
    "precision = 24\n",
    "freq = 500\n",
    "duration = 30               # In seconds\n",
    "\n",
    "channels = 2                # This is practically the only possibility as far as I managed to understand :|\n",
    "rate = 192000               # Maximum rate supported by the board\n",
    "length = 0.1                # Length in time of the signal we create\n",
    "amp = ((2**precision)/2-1)  "
   ]
  },
  {
   "cell_type": "code",
   "execution_count": 12,
   "metadata": {},
   "outputs": [],
   "source": [
    "def byte_conversion(data_list):\n",
    "    '''Converts a list of integers into a list of bytes with specified length'''\n",
    "\n",
    "    if precision == 16:\n",
    "        num_bytes = 2\n",
    "        bytes_array = [(integer).to_bytes(num_bytes, byteorder='little', signed=True) for integer in data_list]\n",
    "        bytes_arr = bytearray()\n",
    "        for b in bytes_array:\n",
    "            bytes_arr.extend(b)\n",
    "        return bytes(bytes_arr)\n",
    "    \n",
    "    elif precision == 24:\n",
    "        num_bytes = 24\n",
    "        bytes_array = [(integer).to_bytes(num_bytes, byteorder='little', signed=True) for integer in data_list]\n",
    "        bytes_arr = bytearray()\n",
    "        for b in bytes_array:\n",
    "            bytes_arr.extend(b)\n",
    "        return bytes(bytes_arr)\n",
    "    \n",
    "\n",
    "def generate_sin(frequency, amplitude, duration = length):\n",
    "    '''Generates a sinusoidal function with specified parametrs. \n",
    "    It returns a bytes list ready to be sent to the board'''\n",
    "\n",
    "    cycle_size = int(rate / frequency)\n",
    "    factor = int(duration * frequency)\n",
    "\n",
    "    # Total number of frames\n",
    "    frames = cycle_size * factor\n",
    "\n",
    "    signal = [int(amplitude * sin(2 * pi * frequency * i / rate)) for i in range(frames)]\n",
    "\n",
    "    if channels > 1:\n",
    "        signal = list(itertools.chain.from_iterable(itertools.repeat(x, channels) for x in signal))\n",
    "\n",
    "    return byte_conversion(signal)"
   ]
  },
  {
   "cell_type": "code",
   "execution_count": 13,
   "metadata": {},
   "outputs": [],
   "source": [
    "class SinePlayer(Thread):\n",
    "    '''Class to play a sinusoidal wave.'''\n",
    "    def __init__(self, frequency = freq, duration = length, amplitude = amp):\n",
    "        Thread.__init__(self, daemon=True)\n",
    "        if precision == 16:\n",
    "            self.device = aa.PCM(rate=rate, channels=channels, format=aa.PCM_FORMAT_S16_LE, periodsize=512, cardindex=1)\n",
    "        elif precision == 24:\n",
    "            self.device = aa.PCM(rate=rate, channels=channels, format=aa.PCM_FORMAT_S24_LE, periodsize=512, cardindex=1)\n",
    "        elif precision == 32:\n",
    "            self.device = aa.PCM(rate=rate, channels=channels, format=aa.PCM_FORMAT_S32_LE, periodsize=512, cardindex=1)\n",
    "        else:\n",
    "            raise ValueError('Precision specified is not 16, 24 or 32 bits.')\n",
    "        # We open the device\n",
    "        # Defaul settings are:\n",
    "        #   - type = PCM_PLAYBACK\n",
    "        #   - mode = PCM_NORMAL  -->  will block the 'write' function if the buffer is full\n",
    "        #   - periods = 4\n",
    "\n",
    "        self.queue = Queue()\n",
    "        self.change(frequency, amplitude, duration)\n",
    "\n",
    "    def change(self, frequency, amplitude, duration = length):\n",
    "        '''Generate the buffer with the data and put it in the queue.'''\n",
    "\n",
    "        #print('Ciao I\\'m in the change function')\n",
    "\n",
    "        if frequency > rate / 2:\n",
    "            raise ValueError('maximum frequency is %d' % (rate / 2))\n",
    "\n",
    "        buf = generate_sin(frequency, amplitude, duration)\n",
    "        #print('len buf:', len(buf))\n",
    "        self.queue.put(buf)\n",
    "        #print('putted the data in the queue')\n",
    "\n",
    "    def run(self):\n",
    "        #print('Entered the run function')\n",
    "        buffer = None\n",
    "        while True:\n",
    "            try:\n",
    "                buffer = self.queue.get(False)\n",
    "                #print('len buffer:', len(buffer))\n",
    "                #print(buffer)\n",
    "                print('Got the queued data, data stream should start :)')\n",
    "            except Empty:\n",
    "                pass\n",
    "            if buffer:\n",
    "                if self.device.write(buffer) < 0:\n",
    "                    print(\"Playback buffer underrun! Continuing nonetheless ...\")"
   ]
  },
  {
   "cell_type": "code",
   "execution_count": 14,
   "metadata": {},
   "outputs": [
    {
     "name": "stdout",
     "output_type": "stream",
     "text": [
      "Got the queued data, data stream should start :)\n"
     ]
    }
   ],
   "source": [
    "isine = SinePlayer()\n",
    "isine.start() "
   ]
  },
  {
   "cell_type": "code",
   "execution_count": 15,
   "metadata": {},
   "outputs": [
    {
     "data": {
      "text/plain": [
       "{'name': 'hw:1',\n",
       " 'card_no': 1,\n",
       " 'device_no': 0,\n",
       " 'subdevice_no': 0,\n",
       " 'state': 'RUNNING',\n",
       " 'access_type': 'RW_INTERLEAVED',\n",
       " ' (call value) type': 0,\n",
       " ' (call value) type_name': 'PLAYBACK',\n",
       " ' (call value) mode': 0,\n",
       " ' (call value) mode_name': 'PCM_NORMAL',\n",
       " 'format': 6,\n",
       " 'format_name': 'S24_LE',\n",
       " 'format_description': 'Signed 24 bit Little Endian',\n",
       " 'subformat_name': 'STD',\n",
       " 'subformat_description': 'Standard',\n",
       " 'channels': 2,\n",
       " 'rate': 192000,\n",
       " 'period_time': 2666,\n",
       " 'period_size': 512,\n",
       " 'buffer_time': 10666,\n",
       " 'buffer_size': 2048,\n",
       " 'periods': 4,\n",
       " 'rate_numden': (192000, 1),\n",
       " 'significant_bits': 32,\n",
       " 'is_batch': False,\n",
       " 'is_block_transfer': False,\n",
       " 'is_double': False,\n",
       " 'is_half_duplex': False,\n",
       " 'is_joint_duplex': False,\n",
       " 'can_overrange': False,\n",
       " 'can_mmap_sample_resolution': True,\n",
       " 'can_pause': True,\n",
       " 'can_resume': True,\n",
       " 'can_sync_start': False}"
      ]
     },
     "execution_count": 15,
     "metadata": {},
     "output_type": "execute_result"
    }
   ],
   "source": [
    "isine.device.info()"
   ]
  },
  {
   "cell_type": "code",
   "execution_count": 16,
   "metadata": {},
   "outputs": [],
   "source": [
    "time.sleep(duration) "
   ]
  },
  {
   "cell_type": "code",
   "execution_count": 17,
   "metadata": {},
   "outputs": [
    {
     "name": "stderr",
     "output_type": "stream",
     "text": [
      "Exception in thread Thread-44:\n",
      "Traceback (most recent call last):\n",
      "  File \"/usr/lib/python3.11/threading.py\", line 1038, in _bootstrap_inner\n",
      "    self.run()\n",
      "  File \"/tmp/ipykernel_7910/1580063620.py\", line 47, in run\n",
      "alsaaudio.ALSAAudioError: File descriptor in bad state [hw:1]\n"
     ]
    }
   ],
   "source": [
    "isine.device.close()"
   ]
  }
 ],
 "metadata": {
  "kernelspec": {
   "display_name": "Venv",
   "language": "python",
   "name": "python3"
  },
  "language_info": {
   "codemirror_mode": {
    "name": "ipython",
    "version": 3
   },
   "file_extension": ".py",
   "mimetype": "text/x-python",
   "name": "python",
   "nbconvert_exporter": "python",
   "pygments_lexer": "ipython3",
   "version": "3.11.2"
  }
 },
 "nbformat": 4,
 "nbformat_minor": 2
}
