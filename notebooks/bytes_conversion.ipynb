{
 "cells": [
  {
   "cell_type": "markdown",
   "metadata": {},
   "source": [
    "I need to convert a list of 32 bits in a list of 24 bits\n",
    "\n",
    "### The program as it is works so don't touch anything"
   ]
  },
  {
   "cell_type": "code",
   "execution_count": null,
   "metadata": {},
   "outputs": [],
   "source": [
    "import numpy as np\n",
    "import struct\n",
    "from random import seed, random\n",
    "from math import sin, pi\n",
    "from matplotlib import pyplot as plt"
   ]
  },
  {
   "cell_type": "code",
   "execution_count": null,
   "metadata": {},
   "outputs": [],
   "source": [
    "pack_format = 'l' # long int, 4 bytes\n",
    "length = 500000\n",
    "precision = 32\n",
    "amplitude = (2**precision)/2-1\n",
    "frequency = 440\n",
    "rate = 192000"
   ]
  },
  {
   "cell_type": "code",
   "execution_count": null,
   "metadata": {},
   "outputs": [],
   "source": [
    "# Generate a sin()\n",
    "\n",
    "values = [amplitude*sin(2*pi*frequency*i/rate) for i in range(length)]\n",
    "values = np.array(values).astype(np.int32)"
   ]
  },
  {
   "cell_type": "code",
   "execution_count": null,
   "metadata": {},
   "outputs": [],
   "source": [
    "# Convert values into bytes\n",
    "\n",
    "packed_data = struct.pack('<' + str(length) + pack_format, *values)\n",
    "print(packed_data)\n",
    "print(len(packed_data))\n",
    "packed_data[::4]"
   ]
  },
  {
   "cell_type": "code",
   "execution_count": null,
   "metadata": {},
   "outputs": [],
   "source": [
    "first_bytes = [packed_data[i:i+4:4] for i in range(0, len(packed_data), 4)]\n",
    "print(first_bytes)\n",
    "\n",
    "listed = [packed_data[i:i+4] for i in range(0, len(packed_data), 4)]\n",
    "print(listed)\n",
    "\n",
    "print(len(first_bytes))"
   ]
  },
  {
   "cell_type": "code",
   "execution_count": null,
   "metadata": {},
   "outputs": [],
   "source": [
    "def replace_byte_in_place(byte_string, index, new_byte):\n",
    "  \"\"\"\n",
    "  This function replaces a byte at a specific index in a byte string (modifies in-place).\n",
    "\n",
    "  Args:\n",
    "      byte_string: The original byte string.\n",
    "      index: The index of the byte to replace (0-based indexing).\n",
    "      new_byte: The byte value (integer between 0 and 255) to replace the byte at the index.\n",
    "\n",
    "  Raises:\n",
    "      TypeError: If the input is not a byte string, the index or new_byte is not an integer.\n",
    "      ValueError: If the index is outside the valid range of the byte string or \n",
    "                   the new_byte value is outside the valid range (0-255).\n",
    "  \"\"\"\n",
    "  if not isinstance(byte_string, bytes):\n",
    "    raise TypeError(\"Input must be a byte string\")\n",
    "  if not isinstance(index, int) or not isinstance(new_byte, int):\n",
    "    raise TypeError(\"Index and new_byte must be integers\")\n",
    "  if not (0 <= index < len(byte_string)):\n",
    "    raise ValueError(\"Index is outside the byte string range\")\n",
    "  if not (0 <= new_byte <= 255):\n",
    "    raise ValueError(\"New byte value must be between 0 and 255\")\n",
    "  byte_array = bytearray(byte_string)\n",
    "  byte_array[index] = new_byte\n",
    "  return bytes(byte_array)\n",
    "\n",
    "def remove_byte(byte_string, index):\n",
    "  \"\"\"\n",
    "  This function removes a byte at a specific index in a byte string and returns a new byte string.\n",
    "\n",
    "  Args:\n",
    "      byte_string: The original byte string.\n",
    "      index: The index of the byte to remove (0-based indexing).\n",
    "\n",
    "  Raises:\n",
    "      TypeError: If the input is not a byte string or the index is not an integer.\n",
    "      ValueError: If the index is outside the valid range of the byte string.\n",
    "  \"\"\"\n",
    "  if not isinstance(byte_string, bytes):\n",
    "    raise TypeError(\"Input must be a byte string\")\n",
    "  if not isinstance(index, int):\n",
    "    raise TypeError(\"Index must be an integer\")\n",
    "  if not (0 <= index < len(byte_string)):\n",
    "    raise ValueError(\"Index is outside the byte string range\")\n",
    "  return byte_string[:index] + byte_string[index + 1:]\n",
    "\n",
    "def insert_byte(byte_string, index, new_byte):\n",
    "  \"\"\"\n",
    "  This function inserts a byte at a specific index in a byte string (modifies in-place).\n",
    "\n",
    "  Args:\n",
    "      byte_string: The original byte string.\n",
    "      index: The index to insert the byte at (0-based indexing).\n",
    "      new_byte: The byte value (integer between 0 and 255) to insert.\n",
    "\n",
    "  Raises:\n",
    "      TypeError: If the input is not a byte string, the index or new_byte is not an integer.\n",
    "      ValueError: If the index is outside the valid range of the byte string or \n",
    "                   the new_byte value is outside the valid range (0-255).\n",
    "  \"\"\"\n",
    "  if not isinstance(byte_string, bytes):\n",
    "    raise TypeError(\"Input must be a byte string\")\n",
    "  if not isinstance(index, int) or not isinstance(new_byte, int):\n",
    "    raise TypeError(\"Index and new_byte must be integers\")\n",
    "  if not (0 <= index <= len(byte_string)):\n",
    "    raise ValueError(\"Index is outside the byte string range\")\n",
    "  if not (0 <= new_byte <= 255):\n",
    "    raise ValueError(\"New byte value must be between 0 and 255\")\n",
    "  byte_array = bytearray(byte_string)\n",
    "  byte_array.insert(index, new_byte)\n",
    "  return bytes(byte_array)"
   ]
  },
  {
   "cell_type": "code",
   "execution_count": null,
   "metadata": {},
   "outputs": [],
   "source": [
    "write_bytes = []\n",
    "\n",
    "for idx in range(len(first_bytes)):\n",
    "    removed_bytes = remove_byte(listed[idx], 0)\n",
    "    write_bytes.append(removed_bytes)\n",
    "\n",
    "print(write_bytes)"
   ]
  },
  {
   "cell_type": "code",
   "execution_count": null,
   "metadata": {},
   "outputs": [],
   "source": [
    "new_bytes = []\n",
    "\n",
    "for idx in range(len(first_bytes)):\n",
    "    #if idx == 743:\n",
    "        #print('first byte:', first_bytes[idx])\n",
    "        #print('original byte:', listed[idx])\n",
    "        #listed[idx] = replace_byte_in_place(listed[idx], 0, 0x00)\n",
    "        #print('new byte:', listed[idx])\n",
    "\n",
    "    #new_bytes.append(listed[idx].replace(first_bytes[idx], b'\\x00'))\n",
    "    #new_bytes.append(replace_byte_in_place(listed[idx], 0, 0x00))\n",
    "    new_bytes.append(insert_byte(write_bytes[idx], 0, 0x00))\n",
    "\n",
    "print(new_bytes)"
   ]
  },
  {
   "cell_type": "code",
   "execution_count": null,
   "metadata": {},
   "outputs": [],
   "source": [
    "bytes_arr = bytearray()\n",
    "\n",
    "for ii in range(len(new_bytes)):\n",
    "    bytes_arr.extend(new_bytes[ii])\n",
    "# convert byte_arr to bytes_string via\n",
    "\n",
    "bytes_list = bytes(bytes_arr)"
   ]
  },
  {
   "cell_type": "code",
   "execution_count": null,
   "metadata": {},
   "outputs": [],
   "source": [
    "unpacked_data = struct.unpack('<' + str(length) + pack_format, bytes_list)\n",
    "print(unpacked_data)"
   ]
  },
  {
   "cell_type": "code",
   "execution_count": null,
   "metadata": {},
   "outputs": [],
   "source": [
    "print(len(unpacked_data))\n",
    "print(len(values))"
   ]
  },
  {
   "cell_type": "code",
   "execution_count": null,
   "metadata": {},
   "outputs": [],
   "source": [
    "x = []\n",
    "y = []\n",
    "\n",
    "for jj in range(len(unpacked_data)):\n",
    "    difference = unpacked_data[jj] - values[jj]\n",
    "    if False:\n",
    "        print('index: %i, unpacked value: %i, original value: %i, difference: %i' % (jj, unpacked_data[jj], values[jj], difference))\n",
    "        x.append(unpacked_data[jj])\n",
    "        y.append(values[jj])"
   ]
  },
  {
   "cell_type": "code",
   "execution_count": null,
   "metadata": {},
   "outputs": [],
   "source": [
    "plt.plot(values, 'o', markersize = 1)\n",
    "plt.plot(unpacked_data, 'o', markersize = 1)\n",
    "plt.xlim(0,1000)"
   ]
  },
  {
   "cell_type": "code",
   "execution_count": null,
   "metadata": {},
   "outputs": [],
   "source": [
    "plt.plot(unpacked_data-values, 'o', markersize = 1)\n",
    "plt.xlim(0,10000)\n",
    "\n",
    "nook = []\n",
    "for ii in range(len(unpacked_data)):\n",
    "    if unpacked_data[ii]-values[ii] > 1000:\n",
    "        nook.append(unpacked_data[ii]-values[ii])\n",
    "\n",
    "print(len(nook))\n",
    "print(len(nook)/len(unpacked_data))"
   ]
  }
 ],
 "metadata": {
  "kernelspec": {
   "display_name": "Venv_thesis",
   "language": "python",
   "name": "python3"
  },
  "language_info": {
   "codemirror_mode": {
    "name": "ipython",
    "version": 3
   },
   "file_extension": ".py",
   "mimetype": "text/x-python",
   "name": "python",
   "nbconvert_exporter": "python",
   "pygments_lexer": "ipython3",
   "version": "3.10.12"
  }
 },
 "nbformat": 4,
 "nbformat_minor": 2
}
