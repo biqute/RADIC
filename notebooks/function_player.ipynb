{
 "cells": [
  {
   "cell_type": "markdown",
   "metadata": {},
   "source": [
    "Notebook to test the sending of a more or less arbitrary signal (realistically we will need only constant, sinusoidal, triangular and square signals)"
   ]
  },
  {
   "cell_type": "code",
   "execution_count": null,
   "metadata": {},
   "outputs": [],
   "source": [
    "import FunctionPlayer as fp\n",
    "import time"
   ]
  },
  {
   "cell_type": "markdown",
   "metadata": {},
   "source": [
    "Test of the classes"
   ]
  },
  {
   "cell_type": "code",
   "execution_count": null,
   "metadata": {},
   "outputs": [],
   "source": [
    "long = 10\n",
    "short = 2\n",
    "amplitude = 32000"
   ]
  },
  {
   "cell_type": "code",
   "execution_count": null,
   "metadata": {},
   "outputs": [],
   "source": [
    "isine = fp.SinePlayer(frequency=800)\n",
    "isine.start()\n",
    "time.sleep(0.5)\n",
    "print(isine.device.info())\n",
    "time.sleep(long)\n",
    "isine.device.close()"
   ]
  },
  {
   "cell_type": "code",
   "execution_count": null,
   "metadata": {},
   "outputs": [],
   "source": [
    "time.sleep(short)\n",
    "isine = fp.ConstPlayer()\n",
    "isine.start()\n",
    "time.sleep(0.5)\n",
    "print(isine.device.info())\n",
    "time.sleep(long)\n",
    "isine.device.close()"
   ]
  },
  {
   "cell_type": "code",
   "execution_count": null,
   "metadata": {},
   "outputs": [],
   "source": [
    "time.sleep(short)\n",
    "isine = fp.TriangularPlayer(frequency=200)\n",
    "isine.start()\n",
    "time.sleep(0.5)\n",
    "print(isine.device.info())\n",
    "time.sleep(long)\n",
    "isine.device.close()"
   ]
  },
  {
   "cell_type": "code",
   "execution_count": null,
   "metadata": {},
   "outputs": [],
   "source": [
    "time.sleep(short)\n",
    "isine = fp.SquarePlayer()\n",
    "isine.start()\n",
    "time.sleep(0.5)\n",
    "print(isine.device.info())\n",
    "time.sleep(long)\n",
    "isine.device.close()"
   ]
  }
 ],
 "metadata": {
  "kernelspec": {
   "display_name": "Venv",
   "language": "python",
   "name": "python3"
  },
  "language_info": {
   "codemirror_mode": {
    "name": "ipython",
    "version": 3
   },
   "file_extension": ".py",
   "mimetype": "text/x-python",
   "name": "python",
   "nbconvert_exporter": "python",
   "pygments_lexer": "ipython3",
   "version": "3.11.2"
  }
 },
 "nbformat": 4,
 "nbformat_minor": 2
}
