{
 "cells": [
  {
   "cell_type": "markdown",
   "metadata": {},
   "source": [
    "8/5/2024"
   ]
  },
  {
   "cell_type": "markdown",
   "metadata": {},
   "source": [
    "Code for reading the sinusoidal signal w just sent"
   ]
  },
  {
   "cell_type": "code",
   "execution_count": 1,
   "metadata": {},
   "outputs": [],
   "source": [
    "from matplotlib import pyplot as plt\n",
    "import numpy as np\n",
    "from math import sin, pi\n",
    "import time\n",
    "import struct\n",
    "\n",
    "import alsaaudio as aa\n",
    "\n",
    "import itertools # Useful library when we have multiple channels"
   ]
  },
  {
   "cell_type": "markdown",
   "metadata": {},
   "source": [
    "Setting some parameters"
   ]
  },
  {
   "cell_type": "code",
   "execution_count": null,
   "metadata": {},
   "outputs": [],
   "source": [
    "pack_format = 'h'\n",
    "\n",
    "rate = 100000\n",
    "channels = 1\n",
    "\n",
    "format = aa.PCM_FORMAT_S16_LE"
   ]
  },
  {
   "cell_type": "code",
   "execution_count": null,
   "metadata": {},
   "outputs": [],
   "source": [
    "input = aa.input = aa.PCM(aa.PCM_CAPTURE, aa.PCM_NONBLOCK, channels=channels, rate=rate, format=format, periodsize=160, cardindex=2)\n",
    "\n",
    "loops = 6000\n",
    "full_data = []\n",
    "full_lenghts = []\n",
    "\n",
    "while loops > 0:\n",
    "    loops =- 1\n",
    "    l, data = input.read() # Read data \n",
    "\n",
    "    if l < 0:\n",
    "        print('Capture buffer overrun! Continuing...')\n",
    "    elif l:\n",
    "        full_data.append(data)\n",
    "        full_lenghts.append(l)\n",
    "        time.sleep(.001) # I don't understand this wait\n",
    "\n",
    "# Check the data we obtained\n",
    "print(len(full_data))\n",
    "print(full_lenghts)\n",
    "\n",
    "for i in range(len(full_data)):\n",
    "    print(full_data[i])"
   ]
  },
  {
   "cell_type": "markdown",
   "metadata": {},
   "source": [
    "Now to convert the data back to int16 we initially have to divide the long 'full_data' array into section of 2 bytes and then convert them into int16"
   ]
  },
  {
   "cell_type": "code",
   "execution_count": null,
   "metadata": {},
   "outputs": [],
   "source": [
    "full_data1D = list(itertools.chain.from_iterable(full_data)) # This should be a 1D list with all the bytes we have read inside"
   ]
  },
  {
   "cell_type": "code",
   "execution_count": null,
   "metadata": {},
   "outputs": [],
   "source": [
    "formatted_data = []\n",
    "\n",
    "for i in range(len(full_data)):\n",
    "    formatted_data.append(np.frombuffer(full_data[i], np.short))"
   ]
  }
 ],
 "metadata": {
  "kernelspec": {
   "display_name": "Venv",
   "language": "python",
   "name": "python3"
  },
  "language_info": {
   "codemirror_mode": {
    "name": "ipython",
    "version": 3
   },
   "file_extension": ".py",
   "mimetype": "text/x-python",
   "name": "python",
   "nbconvert_exporter": "python",
   "pygments_lexer": "ipython3",
   "version": "3.11.2"
  }
 },
 "nbformat": 4,
 "nbformat_minor": 2
}
