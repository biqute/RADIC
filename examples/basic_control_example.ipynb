{
 "cells": [
  {
   "cell_type": "markdown",
   "metadata": {},
   "source": [
    "Example notebook for client-server connection and simple measurement. It simply generates a wave with some specified parameters and reads it for a determined amount of time."
   ]
  },
  {
   "cell_type": "code",
   "execution_count": null,
   "metadata": {},
   "outputs": [],
   "source": [
    "from client import mylogger\n",
    "from instrument import Marcj\n",
    "import time\n",
    "import numpy as np\n",
    "import matplotlib.pyplot as plt"
   ]
  },
  {
   "cell_type": "code",
   "execution_count": 2,
   "metadata": {},
   "outputs": [],
   "source": [
    "inst = Marcj(\"JJ\")"
   ]
  },
  {
   "cell_type": "code",
   "execution_count": 3,
   "metadata": {},
   "outputs": [],
   "source": [
    "inst.connect()"
   ]
  },
  {
   "cell_type": "code",
   "execution_count": 4,
   "metadata": {},
   "outputs": [],
   "source": [
    "amplitude = inst.set_amplitude(2)\n",
    "freq = inst.set_frequency(300)\n",
    "wave = inst.set_wave('TRIA')\n",
    "name = inst.get_id()\n",
    "#offset = inst.set_offset(0)\n",
    "#duration = inst.set_duration(3)\n",
    "#mylogger.info(offset)"
   ]
  },
  {
   "cell_type": "code",
   "execution_count": 5,
   "metadata": {},
   "outputs": [],
   "source": [
    "play = inst.play('CONT')\n",
    "mylogger.info(play)"
   ]
  },
  {
   "cell_type": "code",
   "execution_count": 6,
   "metadata": {},
   "outputs": [],
   "source": [
    "time.sleep(1)"
   ]
  },
  {
   "cell_type": "code",
   "execution_count": 7,
   "metadata": {},
   "outputs": [],
   "source": [
    "acq_time = 1\n",
    "nloops = inst.read_signal(acq_time)"
   ]
  },
  {
   "cell_type": "code",
   "execution_count": 8,
   "metadata": {},
   "outputs": [],
   "source": [
    "ch0 = nloops[\"ch0\"]\n",
    "ch1 = nloops[\"ch1\"]\n",
    "\n",
    "\n",
    "ch0 = np.array(ch0)*2.96/inst.maxval\n",
    "ch1 = np.array(ch1)*2.96/inst.maxval\n",
    "t = np.linspace(0, acq_time, len(ch0))"
   ]
  },
  {
   "cell_type": "code",
   "execution_count": null,
   "metadata": {},
   "outputs": [],
   "source": [
    "fig, (ax1,ax2) = plt.subplots(1,2, figsize=(15,5))\n",
    "ax1.plot(t, ch0, 'o', markersize=.5, color = \"darkblue\", label = \"resistor\")\n",
    "ax2.plot(t, ch1, 'o', markersize=.5, color = \"darkorange\", label = \"diode+resistor\")\n",
    "fig.suptitle(\"Signal\")\n",
    "ax1.grid(alpha = .2)\n",
    "ax2.grid(alpha = .2)\n",
    "ax1.legend(loc = \"best\")\n",
    "ax2.legend(loc = \"best\")\n",
    "ax1.set_ylabel(\"amplitude CH0 [V]\")\n",
    "ax1.set_xlabel(\"time [s]\")\n",
    "ax2.set_ylabel(\"amplitude CH1 [V]\")\n",
    "ax2.set_xlabel(\"time [s]\")\n",
    "ax1.set_xlim(0,0.005);\n",
    "ax2.set_xlim(0,0.005);"
   ]
  },
  {
   "cell_type": "code",
   "execution_count": null,
   "metadata": {},
   "outputs": [],
   "source": [
    "fig, ax1 = plt.subplots()\n",
    "color = \"darkblue\"\n",
    "ax1.set_xlabel(\"time [s]\")\n",
    "ax1.set_ylabel(\"amplitude [V]\", color = color)\n",
    "ax1.plot(t, ch0, 'o', markersize=.5, color = color, label = \"diode + resistor\")\n",
    "ax1.tick_params(axis='y', labelcolor=color)\n",
    "\n",
    "ax2 = ax1.twinx()\n",
    "color = \"darkorange\"\n",
    "ax2.set_xlabel(\"time [s]\")\n",
    "ax2.set_ylabel(\"amplitude [V]\", color = color)\n",
    "ax2.plot(t, ch1, 'o', markersize=.5, color = color, label = \"resistor\")\n",
    "ax2.tick_params(axis='y', labelcolor=color)\n",
    "\n",
    "ax1.set_xlim(0,0.005);\n",
    "ax1.grid(alpha=.2)\n",
    "ax2.set_xlim(0,0.005);\n",
    "ax2.grid(alpha=.2)\n",
    "\n",
    "fig.tight_layout() \n",
    "plt.show()"
   ]
  },
  {
   "cell_type": "code",
   "execution_count": null,
   "metadata": {},
   "outputs": [],
   "source": [
    "plt.plot(t, ch0, 'o', markersize=.5, color = \"darkblue\", label = \"diode + resistor\")\n",
    "plt.plot(t, ch1, 'o', markersize=.5, color = \"darkorange\", label = \"resistor\")\n",
    "plt.grid(alpha = .2)\n",
    "plt.legend(loc = \"best\")\n",
    "plt.ylabel(\"amplitude [V]\")\n",
    "plt.xlabel(\"time [s]\")\n",
    "plt.xlim(0,0.005);"
   ]
  },
  {
   "cell_type": "code",
   "execution_count": null,
   "metadata": {},
   "outputs": [],
   "source": [
    "I_dut = ch0/1000\n",
    "V_dut = ch1-ch0\n",
    "\n",
    "plt.plot(V_dut, I_dut, 'o', markersize=.5, color = \"darkblue\")\n",
    "plt.grid(alpha = .2)\n",
    "plt.title(\"IV diode 1N4007\")\n",
    "plt.ylabel(\"current [A]\")\n",
    "plt.xlabel(\"voltage [V]\");\n",
    "#plt.xlim(0,0.002);"
   ]
  },
  {
   "cell_type": "code",
   "execution_count": null,
   "metadata": {},
   "outputs": [],
   "source": [
    "print(len(ch0))"
   ]
  },
  {
   "cell_type": "code",
   "execution_count": null,
   "metadata": {},
   "outputs": [],
   "source": [
    "from scipy.fft import rfft, rfftfreq\n",
    "import numpy as np\n",
    "\n",
    "yft = rfft(ch0)\n",
    "xft = rfftfreq(int(len(ch0)), 1/192000)\n",
    "spectrum = 20*np.log10(np.abs(yft)/np.max(np.abs(yft)))\n",
    "\n",
    "#yft_2 = rfft(ch1)\n",
    "#xft_2 = rfftfreq(int(len(ch1)), 1/192000)\n",
    "#spectrum_2 = 20*np.log10(np.abs(yft_2)/np.max(np.abs(yft_2)))\n",
    "\n",
    "plt.plot(xft, spectrum, 'o', markersize=.5, color = \"darkblue\")\n",
    "#plt.plot(xft_2, spectrum_2, 'o', markersize=.5, color = \"darkorange\")\n",
    "plt.xscale('log');\n",
    "plt.title(\"Signal spectrum\")\n",
    "plt.grid(alpha = .2)\n",
    "plt.ylabel(\"Intensity [dB]\")\n",
    "plt.xlabel(\"frequency [Hz]\")\n",
    "xft[np.argmax(spectrum)]"
   ]
  },
  {
   "cell_type": "code",
   "execution_count": 15,
   "metadata": {},
   "outputs": [],
   "source": [
    "time.sleep(5)"
   ]
  },
  {
   "cell_type": "code",
   "execution_count": 16,
   "metadata": {},
   "outputs": [],
   "source": [
    "stop = inst.stop_signal()\n",
    "mylogger.info(stop)"
   ]
  },
  {
   "cell_type": "markdown",
   "metadata": {},
   "source": [
    "Let's do some studies and processing on this signal"
   ]
  },
  {
   "cell_type": "code",
   "execution_count": null,
   "metadata": {},
   "outputs": [],
   "source": [
    "max_index = []\n",
    "max_values = []\n",
    "\n",
    "for i, f in enumerate(spectrum):\n",
    "    if f > -10:\n",
    "        max_index.append(i)\n",
    "        max_values.append(f)\n",
    "\n",
    "signal_freq = xft[np.argmax(spectrum)]\n",
    "label_text = str(signal_freq) + \" Hz\"\n",
    "\n",
    "plt.plot(xft[max_index], max_values, \"x\", color = \"darkorange\", label = label_text)\n",
    "plt.plot(xft, spectrum, markersize=.5, color = \"darkblue\", linewidth = .7, label = \"Spectrum\")\n",
    "plt.title(\"Signal spectrum\")\n",
    "plt.legend(loc = \"best\")\n",
    "plt.grid(alpha = .2)\n",
    "plt.ylabel(\"Intensity [dB]\")\n",
    "plt.xlabel(\"frequency [Hz]\")\n",
    "plt.xscale('log');\n",
    "\n",
    "print(str(signal_freq) + \" Hz\")\n",
    "print(xft[max_index])"
   ]
  },
  {
   "cell_type": "code",
   "execution_count": 18,
   "metadata": {},
   "outputs": [],
   "source": [
    "inst.disconnect()"
   ]
  }
 ],
 "metadata": {
  "kernelspec": {
   "display_name": "Venv_thesis",
   "language": "python",
   "name": "python3"
  },
  "language_info": {
   "codemirror_mode": {
    "name": "ipython",
    "version": 3
   },
   "file_extension": ".py",
   "mimetype": "text/x-python",
   "name": "python",
   "nbconvert_exporter": "python",
   "pygments_lexer": "ipython3",
   "version": "3.10.12"
  }
 },
 "nbformat": 4,
 "nbformat_minor": 2
}
