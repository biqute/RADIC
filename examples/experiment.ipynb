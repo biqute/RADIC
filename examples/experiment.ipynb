{
 "cells": [
  {
   "cell_type": "code",
   "execution_count": 29,
   "metadata": {},
   "outputs": [],
   "source": [
    "%matplotlib qt5"
   ]
  },
  {
   "cell_type": "code",
   "execution_count": 30,
   "metadata": {},
   "outputs": [],
   "source": [
    "import experiment"
   ]
  },
  {
   "cell_type": "code",
   "execution_count": 31,
   "metadata": {},
   "outputs": [],
   "source": [
    "freqs = [500] # Hz\n",
    "ampls = [1] # V\n",
    "averages = 10\n",
    "resistance = 1000"
   ]
  },
  {
   "cell_type": "code",
   "execution_count": 32,
   "metadata": {},
   "outputs": [],
   "source": [
    "experiment = experiment.IVCurve(resistance=resistance, freqs=freqs, ampls=ampls, averages=averages, acq_time=1, wave=\"TRIA\")\n",
    "experiment.run_experiment(plot=True, fit=False, device=\"diode\")\n",
    "experiment.close_instrument()"
   ]
  }
 ],
 "metadata": {
  "kernelspec": {
   "display_name": "Venv_thesis",
   "language": "python",
   "name": "python3"
  },
  "language_info": {
   "codemirror_mode": {
    "name": "ipython",
    "version": 3
   },
   "file_extension": ".py",
   "mimetype": "text/x-python",
   "name": "python",
   "nbconvert_exporter": "python",
   "pygments_lexer": "ipython3",
   "version": "3.10.12"
  }
 },
 "nbformat": 4,
 "nbformat_minor": 2
}
